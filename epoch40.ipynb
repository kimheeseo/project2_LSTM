{
  "cells": [
    {
      "cell_type": "markdown",
      "metadata": {
        "id": "view-in-github",
        "colab_type": "text"
      },
      "source": [
        "<a href=\"https://colab.research.google.com/github/kimheeseo/project2_LSTM/blob/main/epoch40.ipynb\" target=\"_parent\"><img src=\"https://colab.research.google.com/assets/colab-badge.svg\" alt=\"Open In Colab\"/></a>"
      ]
    },
    {
      "cell_type": "code",
      "execution_count": 419,
      "metadata": {
        "colab": {
          "base_uri": "https://localhost:8080/"
        },
        "id": "0SYuaOO7RyBy",
        "outputId": "451c108e-af81-46bc-be71-e192943b4839"
      },
      "outputs": [
        {
          "output_type": "stream",
          "name": "stdout",
          "text": [
            "Drive already mounted at /content/gdrive; to attempt to forcibly remount, call drive.mount(\"/content/gdrive\", force_remount=True).\n"
          ]
        }
      ],
      "source": [
        "import numpy as np\n",
        "import pandas as pd\n",
        "import math\n",
        "import sklearn\n",
        "from keras.models import Sequential\n",
        "from sklearn.model_selection import train_test_split\n",
        "from keras.layers import Dense, LSTM\n",
        "from sklearn.preprocessing import MinMaxScaler#MInMaxScaler 표준화\n",
        "import matplotlib.pyplot as plt\n",
        "from google.colab import drive\n",
        "drive.mount('/content/gdrive')#구글드라이브에서 파일 열기"
      ]
    },
    {
      "cell_type": "code",
      "execution_count": 420,
      "metadata": {
        "colab": {
          "base_uri": "https://localhost:8080/",
          "height": 536
        },
        "id": "HsZXT6vTSbi6",
        "outputId": "cb3725e5-86d3-4801-de0d-e07bda197787"
      },
      "outputs": [
        {
          "output_type": "stream",
          "name": "stdout",
          "text": [
            "\n",
            "df.info()\n",
            "<class 'pandas.core.frame.DataFrame'>\n",
            "RangeIndex: 15086 entries, 0 to 15085\n",
            "Data columns (total 7 columns):\n",
            " #   Column     Non-Null Count  Dtype  \n",
            "---  ------     --------------  -----  \n",
            " 0   Date       15086 non-null  object \n",
            " 1   Open       15086 non-null  float64\n",
            " 2   High       15086 non-null  float64\n",
            " 3   Low        15086 non-null  float64\n",
            " 4   Adj Close  15086 non-null  float64\n",
            " 5   Volume     15086 non-null  int64  \n",
            " 6   Close      15086 non-null  float64\n",
            "dtypes: float64(5), int64(1), object(1)\n",
            "memory usage: 825.1+ KB\n",
            "\n",
            "df.head()\n"
          ]
        },
        {
          "output_type": "execute_result",
          "data": {
            "text/html": [
              "\n",
              "  <div id=\"df-0b2de8e6-ca7a-4a4c-845b-d90b3536875c\">\n",
              "    <div class=\"colab-df-container\">\n",
              "      <div>\n",
              "<style scoped>\n",
              "    .dataframe tbody tr th:only-of-type {\n",
              "        vertical-align: middle;\n",
              "    }\n",
              "\n",
              "    .dataframe tbody tr th {\n",
              "        vertical-align: top;\n",
              "    }\n",
              "\n",
              "    .dataframe thead th {\n",
              "        text-align: right;\n",
              "    }\n",
              "</style>\n",
              "<table border=\"1\" class=\"dataframe\">\n",
              "  <thead>\n",
              "    <tr style=\"text-align: right;\">\n",
              "      <th></th>\n",
              "      <th>Date</th>\n",
              "      <th>Open</th>\n",
              "      <th>High</th>\n",
              "      <th>Low</th>\n",
              "      <th>Adj Close</th>\n",
              "      <th>Volume</th>\n",
              "      <th>Close</th>\n",
              "    </tr>\n",
              "  </thead>\n",
              "  <tbody>\n",
              "    <tr>\n",
              "      <th>0</th>\n",
              "      <td>1962-01-03</td>\n",
              "      <td>0.259115</td>\n",
              "      <td>0.259115</td>\n",
              "      <td>0.253255</td>\n",
              "      <td>0.049994</td>\n",
              "      <td>1574400</td>\n",
              "      <td>0.257161</td>\n",
              "    </tr>\n",
              "    <tr>\n",
              "      <th>1</th>\n",
              "      <td>1962-01-04</td>\n",
              "      <td>0.257813</td>\n",
              "      <td>0.261068</td>\n",
              "      <td>0.257813</td>\n",
              "      <td>0.050374</td>\n",
              "      <td>844800</td>\n",
              "      <td>0.259115</td>\n",
              "    </tr>\n",
              "    <tr>\n",
              "      <th>2</th>\n",
              "      <td>1962-01-05</td>\n",
              "      <td>0.259115</td>\n",
              "      <td>0.262370</td>\n",
              "      <td>0.252604</td>\n",
              "      <td>0.049234</td>\n",
              "      <td>1420800</td>\n",
              "      <td>0.253255</td>\n",
              "    </tr>\n",
              "    <tr>\n",
              "      <th>3</th>\n",
              "      <td>1962-01-08</td>\n",
              "      <td>0.251302</td>\n",
              "      <td>0.251302</td>\n",
              "      <td>0.245768</td>\n",
              "      <td>0.048728</td>\n",
              "      <td>2035200</td>\n",
              "      <td>0.250651</td>\n",
              "    </tr>\n",
              "    <tr>\n",
              "      <th>4</th>\n",
              "      <td>1962-01-09</td>\n",
              "      <td>0.250651</td>\n",
              "      <td>0.256510</td>\n",
              "      <td>0.248698</td>\n",
              "      <td>0.049614</td>\n",
              "      <td>960000</td>\n",
              "      <td>0.255208</td>\n",
              "    </tr>\n",
              "  </tbody>\n",
              "</table>\n",
              "</div>\n",
              "      <button class=\"colab-df-convert\" onclick=\"convertToInteractive('df-0b2de8e6-ca7a-4a4c-845b-d90b3536875c')\"\n",
              "              title=\"Convert this dataframe to an interactive table.\"\n",
              "              style=\"display:none;\">\n",
              "        \n",
              "  <svg xmlns=\"http://www.w3.org/2000/svg\" height=\"24px\"viewBox=\"0 0 24 24\"\n",
              "       width=\"24px\">\n",
              "    <path d=\"M0 0h24v24H0V0z\" fill=\"none\"/>\n",
              "    <path d=\"M18.56 5.44l.94 2.06.94-2.06 2.06-.94-2.06-.94-.94-2.06-.94 2.06-2.06.94zm-11 1L8.5 8.5l.94-2.06 2.06-.94-2.06-.94L8.5 2.5l-.94 2.06-2.06.94zm10 10l.94 2.06.94-2.06 2.06-.94-2.06-.94-.94-2.06-.94 2.06-2.06.94z\"/><path d=\"M17.41 7.96l-1.37-1.37c-.4-.4-.92-.59-1.43-.59-.52 0-1.04.2-1.43.59L10.3 9.45l-7.72 7.72c-.78.78-.78 2.05 0 2.83L4 21.41c.39.39.9.59 1.41.59.51 0 1.02-.2 1.41-.59l7.78-7.78 2.81-2.81c.8-.78.8-2.07 0-2.86zM5.41 20L4 18.59l7.72-7.72 1.47 1.35L5.41 20z\"/>\n",
              "  </svg>\n",
              "      </button>\n",
              "      \n",
              "  <style>\n",
              "    .colab-df-container {\n",
              "      display:flex;\n",
              "      flex-wrap:wrap;\n",
              "      gap: 12px;\n",
              "    }\n",
              "\n",
              "    .colab-df-convert {\n",
              "      background-color: #E8F0FE;\n",
              "      border: none;\n",
              "      border-radius: 50%;\n",
              "      cursor: pointer;\n",
              "      display: none;\n",
              "      fill: #1967D2;\n",
              "      height: 32px;\n",
              "      padding: 0 0 0 0;\n",
              "      width: 32px;\n",
              "    }\n",
              "\n",
              "    .colab-df-convert:hover {\n",
              "      background-color: #E2EBFA;\n",
              "      box-shadow: 0px 1px 2px rgba(60, 64, 67, 0.3), 0px 1px 3px 1px rgba(60, 64, 67, 0.15);\n",
              "      fill: #174EA6;\n",
              "    }\n",
              "\n",
              "    [theme=dark] .colab-df-convert {\n",
              "      background-color: #3B4455;\n",
              "      fill: #D2E3FC;\n",
              "    }\n",
              "\n",
              "    [theme=dark] .colab-df-convert:hover {\n",
              "      background-color: #434B5C;\n",
              "      box-shadow: 0px 1px 3px 1px rgba(0, 0, 0, 0.15);\n",
              "      filter: drop-shadow(0px 1px 2px rgba(0, 0, 0, 0.3));\n",
              "      fill: #FFFFFF;\n",
              "    }\n",
              "  </style>\n",
              "\n",
              "      <script>\n",
              "        const buttonEl =\n",
              "          document.querySelector('#df-0b2de8e6-ca7a-4a4c-845b-d90b3536875c button.colab-df-convert');\n",
              "        buttonEl.style.display =\n",
              "          google.colab.kernel.accessAllowed ? 'block' : 'none';\n",
              "\n",
              "        async function convertToInteractive(key) {\n",
              "          const element = document.querySelector('#df-0b2de8e6-ca7a-4a4c-845b-d90b3536875c');\n",
              "          const dataTable =\n",
              "            await google.colab.kernel.invokeFunction('convertToInteractive',\n",
              "                                                     [key], {});\n",
              "          if (!dataTable) return;\n",
              "\n",
              "          const docLinkHtml = 'Like what you see? Visit the ' +\n",
              "            '<a target=\"_blank\" href=https://colab.research.google.com/notebooks/data_table.ipynb>data table notebook</a>'\n",
              "            + ' to learn more about interactive tables.';\n",
              "          element.innerHTML = '';\n",
              "          dataTable['output_type'] = 'display_data';\n",
              "          await google.colab.output.renderOutput(dataTable, element);\n",
              "          const docLink = document.createElement('div');\n",
              "          docLink.innerHTML = docLinkHtml;\n",
              "          element.appendChild(docLink);\n",
              "        }\n",
              "      </script>\n",
              "    </div>\n",
              "  </div>\n",
              "  "
            ],
            "text/plain": [
              "         Date      Open      High       Low  Adj Close   Volume     Close\n",
              "0  1962-01-03  0.259115  0.259115  0.253255   0.049994  1574400  0.257161\n",
              "1  1962-01-04  0.257813  0.261068  0.257813   0.050374   844800  0.259115\n",
              "2  1962-01-05  0.259115  0.262370  0.252604   0.049234  1420800  0.253255\n",
              "3  1962-01-08  0.251302  0.251302  0.245768   0.048728  2035200  0.250651\n",
              "4  1962-01-09  0.250651  0.256510  0.248698   0.049614   960000  0.255208"
            ]
          },
          "metadata": {},
          "execution_count": 420
        }
      ],
      "source": [
        "df=pd.read_csv('/content/gdrive/MyDrive/code/coca.csv',encoding='utf8')#df = 코카콜라주식\n",
        "print('\\ndf.info()')\n",
        "df.info()\n",
        "print('\\ndf.head()')\n",
        "df.head()#1962년부터 주가를 yahoo finance에서 조회가 가능한데, 가격이 저렴한 것이지, 아래의 값은 MinMaxScaler의 값이 아닙니다."
      ]
    },
    {
      "cell_type": "code",
      "execution_count": 421,
      "metadata": {
        "colab": {
          "base_uri": "https://localhost:8080/",
          "height": 206
        },
        "id": "rgU212G_pBMN",
        "outputId": "dfcf7d0a-00bd-478f-a19a-f90255611ed0"
      },
      "outputs": [
        {
          "output_type": "execute_result",
          "data": {
            "text/html": [
              "\n",
              "  <div id=\"df-d99d1ba7-8e21-426b-8c8c-5e325a288b81\">\n",
              "    <div class=\"colab-df-container\">\n",
              "      <div>\n",
              "<style scoped>\n",
              "    .dataframe tbody tr th:only-of-type {\n",
              "        vertical-align: middle;\n",
              "    }\n",
              "\n",
              "    .dataframe tbody tr th {\n",
              "        vertical-align: top;\n",
              "    }\n",
              "\n",
              "    .dataframe thead th {\n",
              "        text-align: right;\n",
              "    }\n",
              "</style>\n",
              "<table border=\"1\" class=\"dataframe\">\n",
              "  <thead>\n",
              "    <tr style=\"text-align: right;\">\n",
              "      <th></th>\n",
              "      <th>Date</th>\n",
              "      <th>Open</th>\n",
              "      <th>High</th>\n",
              "      <th>Low</th>\n",
              "      <th>Adj Close</th>\n",
              "      <th>Volume</th>\n",
              "      <th>Close</th>\n",
              "    </tr>\n",
              "  </thead>\n",
              "  <tbody>\n",
              "    <tr>\n",
              "      <th>15081</th>\n",
              "      <td>2021-11-30</td>\n",
              "      <td>53.599998</td>\n",
              "      <td>53.630001</td>\n",
              "      <td>52.439999</td>\n",
              "      <td>52.450001</td>\n",
              "      <td>30485200</td>\n",
              "      <td>52.450001</td>\n",
              "    </tr>\n",
              "    <tr>\n",
              "      <th>15082</th>\n",
              "      <td>2021-12-01</td>\n",
              "      <td>52.980000</td>\n",
              "      <td>53.520000</td>\n",
              "      <td>52.279999</td>\n",
              "      <td>52.299999</td>\n",
              "      <td>18719600</td>\n",
              "      <td>52.299999</td>\n",
              "    </tr>\n",
              "    <tr>\n",
              "      <th>15083</th>\n",
              "      <td>2021-12-02</td>\n",
              "      <td>52.599998</td>\n",
              "      <td>53.340000</td>\n",
              "      <td>52.509998</td>\n",
              "      <td>53.070000</td>\n",
              "      <td>17074200</td>\n",
              "      <td>53.070000</td>\n",
              "    </tr>\n",
              "    <tr>\n",
              "      <th>15084</th>\n",
              "      <td>2021-12-03</td>\n",
              "      <td>53.330002</td>\n",
              "      <td>53.610001</td>\n",
              "      <td>52.980000</td>\n",
              "      <td>53.540001</td>\n",
              "      <td>21062400</td>\n",
              "      <td>53.540001</td>\n",
              "    </tr>\n",
              "    <tr>\n",
              "      <th>15085</th>\n",
              "      <td>2021-12-06</td>\n",
              "      <td>54.310001</td>\n",
              "      <td>55.250000</td>\n",
              "      <td>54.139999</td>\n",
              "      <td>54.910000</td>\n",
              "      <td>26622900</td>\n",
              "      <td>54.910000</td>\n",
              "    </tr>\n",
              "  </tbody>\n",
              "</table>\n",
              "</div>\n",
              "      <button class=\"colab-df-convert\" onclick=\"convertToInteractive('df-d99d1ba7-8e21-426b-8c8c-5e325a288b81')\"\n",
              "              title=\"Convert this dataframe to an interactive table.\"\n",
              "              style=\"display:none;\">\n",
              "        \n",
              "  <svg xmlns=\"http://www.w3.org/2000/svg\" height=\"24px\"viewBox=\"0 0 24 24\"\n",
              "       width=\"24px\">\n",
              "    <path d=\"M0 0h24v24H0V0z\" fill=\"none\"/>\n",
              "    <path d=\"M18.56 5.44l.94 2.06.94-2.06 2.06-.94-2.06-.94-.94-2.06-.94 2.06-2.06.94zm-11 1L8.5 8.5l.94-2.06 2.06-.94-2.06-.94L8.5 2.5l-.94 2.06-2.06.94zm10 10l.94 2.06.94-2.06 2.06-.94-2.06-.94-.94-2.06-.94 2.06-2.06.94z\"/><path d=\"M17.41 7.96l-1.37-1.37c-.4-.4-.92-.59-1.43-.59-.52 0-1.04.2-1.43.59L10.3 9.45l-7.72 7.72c-.78.78-.78 2.05 0 2.83L4 21.41c.39.39.9.59 1.41.59.51 0 1.02-.2 1.41-.59l7.78-7.78 2.81-2.81c.8-.78.8-2.07 0-2.86zM5.41 20L4 18.59l7.72-7.72 1.47 1.35L5.41 20z\"/>\n",
              "  </svg>\n",
              "      </button>\n",
              "      \n",
              "  <style>\n",
              "    .colab-df-container {\n",
              "      display:flex;\n",
              "      flex-wrap:wrap;\n",
              "      gap: 12px;\n",
              "    }\n",
              "\n",
              "    .colab-df-convert {\n",
              "      background-color: #E8F0FE;\n",
              "      border: none;\n",
              "      border-radius: 50%;\n",
              "      cursor: pointer;\n",
              "      display: none;\n",
              "      fill: #1967D2;\n",
              "      height: 32px;\n",
              "      padding: 0 0 0 0;\n",
              "      width: 32px;\n",
              "    }\n",
              "\n",
              "    .colab-df-convert:hover {\n",
              "      background-color: #E2EBFA;\n",
              "      box-shadow: 0px 1px 2px rgba(60, 64, 67, 0.3), 0px 1px 3px 1px rgba(60, 64, 67, 0.15);\n",
              "      fill: #174EA6;\n",
              "    }\n",
              "\n",
              "    [theme=dark] .colab-df-convert {\n",
              "      background-color: #3B4455;\n",
              "      fill: #D2E3FC;\n",
              "    }\n",
              "\n",
              "    [theme=dark] .colab-df-convert:hover {\n",
              "      background-color: #434B5C;\n",
              "      box-shadow: 0px 1px 3px 1px rgba(0, 0, 0, 0.15);\n",
              "      filter: drop-shadow(0px 1px 2px rgba(0, 0, 0, 0.3));\n",
              "      fill: #FFFFFF;\n",
              "    }\n",
              "  </style>\n",
              "\n",
              "      <script>\n",
              "        const buttonEl =\n",
              "          document.querySelector('#df-d99d1ba7-8e21-426b-8c8c-5e325a288b81 button.colab-df-convert');\n",
              "        buttonEl.style.display =\n",
              "          google.colab.kernel.accessAllowed ? 'block' : 'none';\n",
              "\n",
              "        async function convertToInteractive(key) {\n",
              "          const element = document.querySelector('#df-d99d1ba7-8e21-426b-8c8c-5e325a288b81');\n",
              "          const dataTable =\n",
              "            await google.colab.kernel.invokeFunction('convertToInteractive',\n",
              "                                                     [key], {});\n",
              "          if (!dataTable) return;\n",
              "\n",
              "          const docLinkHtml = 'Like what you see? Visit the ' +\n",
              "            '<a target=\"_blank\" href=https://colab.research.google.com/notebooks/data_table.ipynb>data table notebook</a>'\n",
              "            + ' to learn more about interactive tables.';\n",
              "          element.innerHTML = '';\n",
              "          dataTable['output_type'] = 'display_data';\n",
              "          await google.colab.output.renderOutput(dataTable, element);\n",
              "          const docLink = document.createElement('div');\n",
              "          docLink.innerHTML = docLinkHtml;\n",
              "          element.appendChild(docLink);\n",
              "        }\n",
              "      </script>\n",
              "    </div>\n",
              "  </div>\n",
              "  "
            ],
            "text/plain": [
              "             Date       Open       High  ...  Adj Close    Volume      Close\n",
              "15081  2021-11-30  53.599998  53.630001  ...  52.450001  30485200  52.450001\n",
              "15082  2021-12-01  52.980000  53.520000  ...  52.299999  18719600  52.299999\n",
              "15083  2021-12-02  52.599998  53.340000  ...  53.070000  17074200  53.070000\n",
              "15084  2021-12-03  53.330002  53.610001  ...  53.540001  21062400  53.540001\n",
              "15085  2021-12-06  54.310001  55.250000  ...  54.910000  26622900  54.910000\n",
              "\n",
              "[5 rows x 7 columns]"
            ]
          },
          "metadata": {},
          "execution_count": 421
        }
      ],
      "source": [
        "df.tail()"
      ]
    },
    {
      "cell_type": "code",
      "execution_count": 422,
      "metadata": {
        "colab": {
          "base_uri": "https://localhost:8080/",
          "height": 318
        },
        "id": "IevKgSjBVJXo",
        "outputId": "edf7e2da-32b4-49d5-f5f6-8355a1252852"
      },
      "outputs": [
        {
          "output_type": "stream",
          "name": "stdout",
          "text": [
            "describe값\n"
          ]
        },
        {
          "output_type": "execute_result",
          "data": {
            "text/html": [
              "\n",
              "  <div id=\"df-d2997b4e-2624-4892-ae1a-4e3a77a2d463\">\n",
              "    <div class=\"colab-df-container\">\n",
              "      <div>\n",
              "<style scoped>\n",
              "    .dataframe tbody tr th:only-of-type {\n",
              "        vertical-align: middle;\n",
              "    }\n",
              "\n",
              "    .dataframe tbody tr th {\n",
              "        vertical-align: top;\n",
              "    }\n",
              "\n",
              "    .dataframe thead th {\n",
              "        text-align: right;\n",
              "    }\n",
              "</style>\n",
              "<table border=\"1\" class=\"dataframe\">\n",
              "  <thead>\n",
              "    <tr style=\"text-align: right;\">\n",
              "      <th></th>\n",
              "      <th>Open</th>\n",
              "      <th>High</th>\n",
              "      <th>Low</th>\n",
              "      <th>Adj Close</th>\n",
              "      <th>Volume</th>\n",
              "      <th>Close</th>\n",
              "    </tr>\n",
              "  </thead>\n",
              "  <tbody>\n",
              "    <tr>\n",
              "      <th>count</th>\n",
              "      <td>15086.000000</td>\n",
              "      <td>15086.000000</td>\n",
              "      <td>15086.000000</td>\n",
              "      <td>15086.000000</td>\n",
              "      <td>1.508600e+04</td>\n",
              "      <td>15086.000000</td>\n",
              "    </tr>\n",
              "    <tr>\n",
              "      <th>mean</th>\n",
              "      <td>16.033093</td>\n",
              "      <td>16.165045</td>\n",
              "      <td>15.898840</td>\n",
              "      <td>11.341124</td>\n",
              "      <td>9.023160e+06</td>\n",
              "      <td>16.037467</td>\n",
              "    </tr>\n",
              "    <tr>\n",
              "      <th>std</th>\n",
              "      <td>16.915488</td>\n",
              "      <td>17.040094</td>\n",
              "      <td>16.787879</td>\n",
              "      <td>14.214715</td>\n",
              "      <td>7.923026e+06</td>\n",
              "      <td>16.917524</td>\n",
              "    </tr>\n",
              "    <tr>\n",
              "      <th>min</th>\n",
              "      <td>0.192708</td>\n",
              "      <td>0.193359</td>\n",
              "      <td>0.182292</td>\n",
              "      <td>0.037855</td>\n",
              "      <td>7.680000e+04</td>\n",
              "      <td>0.192057</td>\n",
              "    </tr>\n",
              "    <tr>\n",
              "      <th>25%</th>\n",
              "      <td>0.859700</td>\n",
              "      <td>0.869792</td>\n",
              "      <td>0.854167</td>\n",
              "      <td>0.242306</td>\n",
              "      <td>2.812800e+06</td>\n",
              "      <td>0.859375</td>\n",
              "    </tr>\n",
              "    <tr>\n",
              "      <th>50%</th>\n",
              "      <td>9.226562</td>\n",
              "      <td>9.367188</td>\n",
              "      <td>9.187500</td>\n",
              "      <td>4.611509</td>\n",
              "      <td>7.575200e+06</td>\n",
              "      <td>9.250000</td>\n",
              "    </tr>\n",
              "    <tr>\n",
              "      <th>75%</th>\n",
              "      <td>28.844687</td>\n",
              "      <td>29.143750</td>\n",
              "      <td>28.534063</td>\n",
              "      <td>17.220101</td>\n",
              "      <td>1.290605e+07</td>\n",
              "      <td>28.873750</td>\n",
              "    </tr>\n",
              "    <tr>\n",
              "      <th>max</th>\n",
              "      <td>59.810001</td>\n",
              "      <td>60.130001</td>\n",
              "      <td>59.619999</td>\n",
              "      <td>56.610435</td>\n",
              "      <td>1.241690e+08</td>\n",
              "      <td>60.130001</td>\n",
              "    </tr>\n",
              "  </tbody>\n",
              "</table>\n",
              "</div>\n",
              "      <button class=\"colab-df-convert\" onclick=\"convertToInteractive('df-d2997b4e-2624-4892-ae1a-4e3a77a2d463')\"\n",
              "              title=\"Convert this dataframe to an interactive table.\"\n",
              "              style=\"display:none;\">\n",
              "        \n",
              "  <svg xmlns=\"http://www.w3.org/2000/svg\" height=\"24px\"viewBox=\"0 0 24 24\"\n",
              "       width=\"24px\">\n",
              "    <path d=\"M0 0h24v24H0V0z\" fill=\"none\"/>\n",
              "    <path d=\"M18.56 5.44l.94 2.06.94-2.06 2.06-.94-2.06-.94-.94-2.06-.94 2.06-2.06.94zm-11 1L8.5 8.5l.94-2.06 2.06-.94-2.06-.94L8.5 2.5l-.94 2.06-2.06.94zm10 10l.94 2.06.94-2.06 2.06-.94-2.06-.94-.94-2.06-.94 2.06-2.06.94z\"/><path d=\"M17.41 7.96l-1.37-1.37c-.4-.4-.92-.59-1.43-.59-.52 0-1.04.2-1.43.59L10.3 9.45l-7.72 7.72c-.78.78-.78 2.05 0 2.83L4 21.41c.39.39.9.59 1.41.59.51 0 1.02-.2 1.41-.59l7.78-7.78 2.81-2.81c.8-.78.8-2.07 0-2.86zM5.41 20L4 18.59l7.72-7.72 1.47 1.35L5.41 20z\"/>\n",
              "  </svg>\n",
              "      </button>\n",
              "      \n",
              "  <style>\n",
              "    .colab-df-container {\n",
              "      display:flex;\n",
              "      flex-wrap:wrap;\n",
              "      gap: 12px;\n",
              "    }\n",
              "\n",
              "    .colab-df-convert {\n",
              "      background-color: #E8F0FE;\n",
              "      border: none;\n",
              "      border-radius: 50%;\n",
              "      cursor: pointer;\n",
              "      display: none;\n",
              "      fill: #1967D2;\n",
              "      height: 32px;\n",
              "      padding: 0 0 0 0;\n",
              "      width: 32px;\n",
              "    }\n",
              "\n",
              "    .colab-df-convert:hover {\n",
              "      background-color: #E2EBFA;\n",
              "      box-shadow: 0px 1px 2px rgba(60, 64, 67, 0.3), 0px 1px 3px 1px rgba(60, 64, 67, 0.15);\n",
              "      fill: #174EA6;\n",
              "    }\n",
              "\n",
              "    [theme=dark] .colab-df-convert {\n",
              "      background-color: #3B4455;\n",
              "      fill: #D2E3FC;\n",
              "    }\n",
              "\n",
              "    [theme=dark] .colab-df-convert:hover {\n",
              "      background-color: #434B5C;\n",
              "      box-shadow: 0px 1px 3px 1px rgba(0, 0, 0, 0.15);\n",
              "      filter: drop-shadow(0px 1px 2px rgba(0, 0, 0, 0.3));\n",
              "      fill: #FFFFFF;\n",
              "    }\n",
              "  </style>\n",
              "\n",
              "      <script>\n",
              "        const buttonEl =\n",
              "          document.querySelector('#df-d2997b4e-2624-4892-ae1a-4e3a77a2d463 button.colab-df-convert');\n",
              "        buttonEl.style.display =\n",
              "          google.colab.kernel.accessAllowed ? 'block' : 'none';\n",
              "\n",
              "        async function convertToInteractive(key) {\n",
              "          const element = document.querySelector('#df-d2997b4e-2624-4892-ae1a-4e3a77a2d463');\n",
              "          const dataTable =\n",
              "            await google.colab.kernel.invokeFunction('convertToInteractive',\n",
              "                                                     [key], {});\n",
              "          if (!dataTable) return;\n",
              "\n",
              "          const docLinkHtml = 'Like what you see? Visit the ' +\n",
              "            '<a target=\"_blank\" href=https://colab.research.google.com/notebooks/data_table.ipynb>data table notebook</a>'\n",
              "            + ' to learn more about interactive tables.';\n",
              "          element.innerHTML = '';\n",
              "          dataTable['output_type'] = 'display_data';\n",
              "          await google.colab.output.renderOutput(dataTable, element);\n",
              "          const docLink = document.createElement('div');\n",
              "          docLink.innerHTML = docLinkHtml;\n",
              "          element.appendChild(docLink);\n",
              "        }\n",
              "      </script>\n",
              "    </div>\n",
              "  </div>\n",
              "  "
            ],
            "text/plain": [
              "               Open          High  ...        Volume         Close\n",
              "count  15086.000000  15086.000000  ...  1.508600e+04  15086.000000\n",
              "mean      16.033093     16.165045  ...  9.023160e+06     16.037467\n",
              "std       16.915488     17.040094  ...  7.923026e+06     16.917524\n",
              "min        0.192708      0.193359  ...  7.680000e+04      0.192057\n",
              "25%        0.859700      0.869792  ...  2.812800e+06      0.859375\n",
              "50%        9.226562      9.367188  ...  7.575200e+06      9.250000\n",
              "75%       28.844687     29.143750  ...  1.290605e+07     28.873750\n",
              "max       59.810001     60.130001  ...  1.241690e+08     60.130001\n",
              "\n",
              "[8 rows x 6 columns]"
            ]
          },
          "metadata": {},
          "execution_count": 422
        }
      ],
      "source": [
        "print('describe값')\n",
        "df.describe()"
      ]
    },
    {
      "cell_type": "markdown",
      "metadata": {
        "id": "pzgcXHZcVPaP"
      },
      "source": [
        "\n",
        "## **그래프 출력하기**"
      ]
    },
    {
      "cell_type": "code",
      "execution_count": 423,
      "metadata": {
        "colab": {
          "base_uri": "https://localhost:8080/",
          "height": 350
        },
        "id": "irO1I8FhVKI3",
        "outputId": "0bc771f3-cad0-4424-b2fd-6c21f8f6f7dc"
      },
      "outputs": [
        {
          "output_type": "display_data",
          "data": {
            "image/png": "[encoded data removed]",
            "text/plain": [
              "<Figure size 576x360 with 1 Axes>"
            ]
          },
          "metadata": {
            "needs_background": "light"
          }
        }
      ],
      "source": [
        "plt.figure(figsize=(8,5))\n",
        "plt.title('coca cola stock price')\n",
        "plt.plot(df['Close']) #종가를 기준으로 주가 그래프 그리기\n",
        "plt.xlabel('Date')\n",
        "plt.ylabel('price')\n",
        "plt.show()"
      ]
    },
    {
      "cell_type": "markdown",
      "metadata": {
        "id": "IKFPxHy5dQPd"
      },
      "source": [
        "### **open, high, low, close마다 값차이 존재 확인**"
      ]
    },
    {
      "cell_type": "code",
      "execution_count": 424,
      "metadata": {
        "colab": {
          "base_uri": "https://localhost:8080/",
          "height": 410
        },
        "id": "XSyxW1QjdRAp",
        "outputId": "73be5ee7-3cbd-403a-9a2d-3e945cbe0d3b"
      },
      "outputs": [
        {
          "output_type": "execute_result",
          "data": {
            "text/plain": [
              "<matplotlib.legend.Legend at 0x7f3bf9c9e9d0>"
            ]
          },
          "metadata": {},
          "execution_count": 424
        },
        {
          "output_type": "display_data",
          "data": {
            "image/png": "[encoded data removed]",
            "text/plain": [
              "<Figure size 720x432 with 1 Axes>"
            ]
          },
          "metadata": {
            "needs_background": "light"
          }
        }
      ],
      "source": [
        "plt.figure(figsize=(10,6));\n",
        "plt.plot(df.Date.values, df.Open.values, color='black',label='open')\n",
        "plt.plot(df.Date.values, df.High.values, color='blue',label='high')\n",
        "plt.plot(df.Date.values, df.Low.values, color='cyan',label='low')\n",
        "plt.plot(df.Date.values, df.Close.values, color='red',label='close')\n",
        "\n",
        "plt.xlabel('Date')\n",
        "plt.xlim(9520,9525)\n",
        "plt.ylim(27.5,30)\n",
        "plt.ylabel('Price')\n",
        "plt.legend(loc='best')"
      ]
    },
    {
      "cell_type": "markdown",
      "metadata": {
        "id": "AQ-GD5UpdjLA"
      },
      "source": [
        "## **MinMaxScaler화 : 데이터 정규화**"
      ]
    },
    {
      "cell_type": "code",
      "execution_count": 425,
      "metadata": {
        "colab": {
          "base_uri": "https://localhost:8080/"
        },
        "id": "VFdpOFPNS6m1",
        "outputId": "224a0917-7c55-4ef0-f153-ba1b27dd1ccb"
      },
      "outputs": [
        {
          "output_type": "stream",
          "name": "stdout",
          "text": [
            "             Date       Open       High  ...  Adj Close    Volume      Close\n",
            "0      1962-01-03   0.259115   0.259115  ...   0.049994   1574400   0.257161\n",
            "1      1962-01-04   0.257813   0.261068  ...   0.050374    844800   0.259115\n",
            "2      1962-01-05   0.259115   0.262370  ...   0.049234   1420800   0.253255\n",
            "3      1962-01-08   0.251302   0.251302  ...   0.048728   2035200   0.250651\n",
            "4      1962-01-09   0.250651   0.256510  ...   0.049614    960000   0.255208\n",
            "...           ...        ...        ...  ...        ...       ...        ...\n",
            "15081  2021-11-30  53.599998  53.630001  ...  52.450001  30485200  52.450001\n",
            "15082  2021-12-01  52.980000  53.520000  ...  52.299999  18719600  52.299999\n",
            "15083  2021-12-02  52.599998  53.340000  ...  53.070000  17074200  53.070000\n",
            "15084  2021-12-03  53.330002  53.610001  ...  53.540001  21062400  53.540001\n",
            "15085  2021-12-06  54.310001  55.250000  ...  54.910000  26622900  54.910000\n",
            "\n",
            "[15086 rows x 7 columns]\n"
          ]
        }
      ],
      "source": [
        "print(df)"
      ]
    },
    {
      "cell_type": "code",
      "execution_count": 426,
      "metadata": {
        "colab": {
          "base_uri": "https://localhost:8080/"
        },
        "id": "g9WZKmrqfILU",
        "outputId": "6aa3e674-944d-45d3-fd70-872220f505ad"
      },
      "outputs": [
        {
          "output_type": "stream",
          "name": "stdout",
          "text": [
            "scale_df값 [[1.11388821e-03 1.09709183e-03 1.19390541e-03 2.14573915e-04\n",
            "  1.20684459e-02 1.08619008e-03]\n",
            " [1.09204891e-03 1.12967623e-03 1.27059074e-03 2.21290950e-04\n",
            "  6.18894661e-03 1.11879046e-03]\n",
            " [1.11388821e-03 1.15139917e-03 1.18295277e-03 2.01139845e-04\n",
            "  1.08306566e-02 1.02102268e-03]\n",
            " ...\n",
            " [8.79061886e-01 8.86713690e-01 8.80378949e-01 9.37417827e-01\n",
            "  1.36973960e-01 8.82211492e-01]\n",
            " [8.91306722e-01 8.91218464e-01 8.88286421e-01 9.45725756e-01\n",
            "  1.69112966e-01 8.90052952e-01]\n",
            " [9.07744889e-01 9.18580674e-01 9.07802634e-01 9.69942417e-01\n",
            "  2.13922390e-01 9.12909909e-01]]\n",
            "scale_df.shape값 (15086, 6)\n"
          ]
        }
      ],
      "source": [
        "scaler=MinMaxScaler()\n",
        "df=df.iloc[:,1:]#date를 제외한 값 출력\n",
        "scale_df=scaler.fit_transform(df)\n",
        "print('scale_df값',scale_df)\n",
        "print('scale_df.shape값',scale_df.shape)"
      ]
    },
    {
      "cell_type": "code",
      "execution_count": 427,
      "metadata": {
        "colab": {
          "base_uri": "https://localhost:8080/"
        },
        "id": "2M7wA5hCTMJ0",
        "outputId": "2c197369-a603-48b4-a327-de8ff5717bbe"
      },
      "outputs": [
        {
          "output_type": "stream",
          "name": "stdout",
          "text": [
            "df값             Open       High        Low  Adj Close    Volume      Close\n",
            "0       0.259115   0.259115   0.253255   0.049994   1574400   0.257161\n",
            "1       0.257813   0.261068   0.257813   0.050374    844800   0.259115\n",
            "2       0.259115   0.262370   0.252604   0.049234   1420800   0.253255\n",
            "3       0.251302   0.251302   0.245768   0.048728   2035200   0.250651\n",
            "4       0.250651   0.256510   0.248698   0.049614    960000   0.255208\n",
            "...          ...        ...        ...        ...       ...        ...\n",
            "15081  53.599998  53.630001  52.439999  52.450001  30485200  52.450001\n",
            "15082  52.980000  53.520000  52.279999  52.299999  18719600  52.299999\n",
            "15083  52.599998  53.340000  52.509998  53.070000  17074200  53.070000\n",
            "15084  53.330002  53.610001  52.980000  53.540001  21062400  53.540001\n",
            "15085  54.310001  55.250000  54.139999  54.910000  26622900  54.910000\n",
            "\n",
            "[15086 rows x 6 columns]\n"
          ]
        }
      ],
      "source": [
        "print('df값',df)"
      ]
    },
    {
      "cell_type": "markdown",
      "metadata": {
        "id": "dqOZ7QbFNa26"
      },
      "source": [
        "### **train값과 test값 구분**"
      ]
    },
    {
      "cell_type": "code",
      "execution_count": 428,
      "metadata": {
        "colab": {
          "base_uri": "https://localhost:8080/",
          "height": 301
        },
        "id": "p_kd8G57boMQ",
        "outputId": "1c95291c-b2aa-4f66-e2df-11e32f427dd9"
      },
      "outputs": [
        {
          "output_type": "stream",
          "name": "stdout",
          "text": [
            "test_close.shape값 (3017, 1)\n"
          ]
        },
        {
          "output_type": "execute_result",
          "data": {
            "text/plain": [
              "<matplotlib.legend.Legend at 0x7f3be8106e50>"
            ]
          },
          "metadata": {},
          "execution_count": 428
        },
        {
          "output_type": "display_data",
          "data": {
            "image/png": "[encoded data removed]",
            "text/plain": [
              "<Figure size 432x288 with 1 Axes>"
            ]
          },
          "metadata": {
            "needs_background": "light"
          }
        }
      ],
      "source": [
        "close1=df.iloc[:,5] #close1은 종가만 추출하는것.\n",
        "train_close1=pd.DataFrame(close1[0:12069])\n",
        "test_close1=pd.DataFrame(close1[12069:])\n",
        "print('test_close.shape값',test_close1.shape)\n",
        "ax=train_close1.plot()\n",
        "test_close1.plot(ax=ax)\n",
        "plt.legend(['train','test']) #train과 test를 어떻게 나눴는지 그래프로 확인가능."
      ]
    },
    {
      "cell_type": "code",
      "execution_count": 429,
      "metadata": {
        "colab": {
          "base_uri": "https://localhost:8080/",
          "height": 206
        },
        "id": "2vcwGqUcraid",
        "outputId": "15115868-1c7d-4269-bd2b-b71172c6e735"
      },
      "outputs": [
        {
          "output_type": "execute_result",
          "data": {
            "text/html": [
              "\n",
              "  <div id=\"df-509e0b5a-ca48-4def-8fe4-74b8803f9034\">\n",
              "    <div class=\"colab-df-container\">\n",
              "      <div>\n",
              "<style scoped>\n",
              "    .dataframe tbody tr th:only-of-type {\n",
              "        vertical-align: middle;\n",
              "    }\n",
              "\n",
              "    .dataframe tbody tr th {\n",
              "        vertical-align: top;\n",
              "    }\n",
              "\n",
              "    .dataframe thead th {\n",
              "        text-align: right;\n",
              "    }\n",
              "</style>\n",
              "<table border=\"1\" class=\"dataframe\">\n",
              "  <thead>\n",
              "    <tr style=\"text-align: right;\">\n",
              "      <th></th>\n",
              "      <th>Open</th>\n",
              "      <th>High</th>\n",
              "      <th>Low</th>\n",
              "      <th>Adj Close</th>\n",
              "      <th>Volume</th>\n",
              "      <th>Close</th>\n",
              "    </tr>\n",
              "  </thead>\n",
              "  <tbody>\n",
              "    <tr>\n",
              "      <th>0</th>\n",
              "      <td>0.259115</td>\n",
              "      <td>0.259115</td>\n",
              "      <td>0.253255</td>\n",
              "      <td>0.049994</td>\n",
              "      <td>1574400</td>\n",
              "      <td>0.257161</td>\n",
              "    </tr>\n",
              "    <tr>\n",
              "      <th>1</th>\n",
              "      <td>0.257813</td>\n",
              "      <td>0.261068</td>\n",
              "      <td>0.257813</td>\n",
              "      <td>0.050374</td>\n",
              "      <td>844800</td>\n",
              "      <td>0.259115</td>\n",
              "    </tr>\n",
              "    <tr>\n",
              "      <th>2</th>\n",
              "      <td>0.259115</td>\n",
              "      <td>0.262370</td>\n",
              "      <td>0.252604</td>\n",
              "      <td>0.049234</td>\n",
              "      <td>1420800</td>\n",
              "      <td>0.253255</td>\n",
              "    </tr>\n",
              "    <tr>\n",
              "      <th>3</th>\n",
              "      <td>0.251302</td>\n",
              "      <td>0.251302</td>\n",
              "      <td>0.245768</td>\n",
              "      <td>0.048728</td>\n",
              "      <td>2035200</td>\n",
              "      <td>0.250651</td>\n",
              "    </tr>\n",
              "    <tr>\n",
              "      <th>4</th>\n",
              "      <td>0.250651</td>\n",
              "      <td>0.256510</td>\n",
              "      <td>0.248698</td>\n",
              "      <td>0.049614</td>\n",
              "      <td>960000</td>\n",
              "      <td>0.255208</td>\n",
              "    </tr>\n",
              "  </tbody>\n",
              "</table>\n",
              "</div>\n",
              "      <button class=\"colab-df-convert\" onclick=\"convertToInteractive('df-509e0b5a-ca48-4def-8fe4-74b8803f9034')\"\n",
              "              title=\"Convert this dataframe to an interactive table.\"\n",
              "              style=\"display:none;\">\n",
              "        \n",
              "  <svg xmlns=\"http://www.w3.org/2000/svg\" height=\"24px\"viewBox=\"0 0 24 24\"\n",
              "       width=\"24px\">\n",
              "    <path d=\"M0 0h24v24H0V0z\" fill=\"none\"/>\n",
              "    <path d=\"M18.56 5.44l.94 2.06.94-2.06 2.06-.94-2.06-.94-.94-2.06-.94 2.06-2.06.94zm-11 1L8.5 8.5l.94-2.06 2.06-.94-2.06-.94L8.5 2.5l-.94 2.06-2.06.94zm10 10l.94 2.06.94-2.06 2.06-.94-2.06-.94-.94-2.06-.94 2.06-2.06.94z\"/><path d=\"M17.41 7.96l-1.37-1.37c-.4-.4-.92-.59-1.43-.59-.52 0-1.04.2-1.43.59L10.3 9.45l-7.72 7.72c-.78.78-.78 2.05 0 2.83L4 21.41c.39.39.9.59 1.41.59.51 0 1.02-.2 1.41-.59l7.78-7.78 2.81-2.81c.8-.78.8-2.07 0-2.86zM5.41 20L4 18.59l7.72-7.72 1.47 1.35L5.41 20z\"/>\n",
              "  </svg>\n",
              "      </button>\n",
              "      \n",
              "  <style>\n",
              "    .colab-df-container {\n",
              "      display:flex;\n",
              "      flex-wrap:wrap;\n",
              "      gap: 12px;\n",
              "    }\n",
              "\n",
              "    .colab-df-convert {\n",
              "      background-color: #E8F0FE;\n",
              "      border: none;\n",
              "      border-radius: 50%;\n",
              "      cursor: pointer;\n",
              "      display: none;\n",
              "      fill: #1967D2;\n",
              "      height: 32px;\n",
              "      padding: 0 0 0 0;\n",
              "      width: 32px;\n",
              "    }\n",
              "\n",
              "    .colab-df-convert:hover {\n",
              "      background-color: #E2EBFA;\n",
              "      box-shadow: 0px 1px 2px rgba(60, 64, 67, 0.3), 0px 1px 3px 1px rgba(60, 64, 67, 0.15);\n",
              "      fill: #174EA6;\n",
              "    }\n",
              "\n",
              "    [theme=dark] .colab-df-convert {\n",
              "      background-color: #3B4455;\n",
              "      fill: #D2E3FC;\n",
              "    }\n",
              "\n",
              "    [theme=dark] .colab-df-convert:hover {\n",
              "      background-color: #434B5C;\n",
              "      box-shadow: 0px 1px 3px 1px rgba(0, 0, 0, 0.15);\n",
              "      filter: drop-shadow(0px 1px 2px rgba(0, 0, 0, 0.3));\n",
              "      fill: #FFFFFF;\n",
              "    }\n",
              "  </style>\n",
              "\n",
              "      <script>\n",
              "        const buttonEl =\n",
              "          document.querySelector('#df-509e0b5a-ca48-4def-8fe4-74b8803f9034 button.colab-df-convert');\n",
              "        buttonEl.style.display =\n",
              "          google.colab.kernel.accessAllowed ? 'block' : 'none';\n",
              "\n",
              "        async function convertToInteractive(key) {\n",
              "          const element = document.querySelector('#df-509e0b5a-ca48-4def-8fe4-74b8803f9034');\n",
              "          const dataTable =\n",
              "            await google.colab.kernel.invokeFunction('convertToInteractive',\n",
              "                                                     [key], {});\n",
              "          if (!dataTable) return;\n",
              "\n",
              "          const docLinkHtml = 'Like what you see? Visit the ' +\n",
              "            '<a target=\"_blank\" href=https://colab.research.google.com/notebooks/data_table.ipynb>data table notebook</a>'\n",
              "            + ' to learn more about interactive tables.';\n",
              "          element.innerHTML = '';\n",
              "          dataTable['output_type'] = 'display_data';\n",
              "          await google.colab.output.renderOutput(dataTable, element);\n",
              "          const docLink = document.createElement('div');\n",
              "          docLink.innerHTML = docLinkHtml;\n",
              "          element.appendChild(docLink);\n",
              "        }\n",
              "      </script>\n",
              "    </div>\n",
              "  </div>\n",
              "  "
            ],
            "text/plain": [
              "       Open      High       Low  Adj Close   Volume     Close\n",
              "0  0.259115  0.259115  0.253255   0.049994  1574400  0.257161\n",
              "1  0.257813  0.261068  0.257813   0.050374   844800  0.259115\n",
              "2  0.259115  0.262370  0.252604   0.049234  1420800  0.253255\n",
              "3  0.251302  0.251302  0.245768   0.048728  2035200  0.250651\n",
              "4  0.250651  0.256510  0.248698   0.049614   960000  0.255208"
            ]
          },
          "metadata": {},
          "execution_count": 429
        }
      ],
      "source": [
        "df.head() #df에는 open, high, low, Adj close, volume, close값 존재."
      ]
    },
    {
      "cell_type": "code",
      "execution_count": 430,
      "metadata": {
        "colab": {
          "base_uri": "https://localhost:8080/"
        },
        "id": "E-3mKwgXU_iQ",
        "outputId": "e01155d0-4989-4b21-a09b-b08efcfaaf9b"
      },
      "outputs": [
        {
          "output_type": "execute_result",
          "data": {
            "text/plain": [
              "0    0.257161\n",
              "1    0.259115\n",
              "2    0.253255\n",
              "3    0.250651\n",
              "4    0.255208\n",
              "Name: Close, dtype: float64"
            ]
          },
          "metadata": {},
          "execution_count": 430
        }
      ],
      "source": [
        "close1.head()#close값(종가) 출력"
      ]
    },
    {
      "cell_type": "code",
      "execution_count": 431,
      "metadata": {
        "colab": {
          "base_uri": "https://localhost:8080/"
        },
        "id": "gIXsomuLxTNG",
        "outputId": "5374bac9-f090-4786-80ff-de5b67daf992"
      },
      "outputs": [
        {
          "output_type": "stream",
          "name": "stdout",
          "text": [
            "x값 [[0.00111389 0.00109709 0.00119391 0.00021457 0.01206845]\n",
            " [0.00109205 0.00112968 0.00127059 0.00022129 0.00618895]\n",
            " [0.00111389 0.0011514  0.00118295 0.00020114 0.01083066]\n",
            " [0.00098284 0.00096674 0.00106794 0.0001922  0.01578181]]\n",
            "x.shape값 (15086, 5)\n",
            "y값 [0.00108619 0.00111879 0.00102102 0.00097758]\n",
            "y.shape값 (15086,)\n"
          ]
        }
      ],
      "source": [
        "x=scale_df[:,0:5]\n",
        "print('x값',x[0:4]) #open, high, low, adj close, volume(5개)\n",
        "print('x.shape값',x.shape)\n",
        "y=scale_df[:,5]\n",
        "print('y값',y[0:4]) #close값\n",
        "print('y.shape값',y.shape) #close값"
      ]
    },
    {
      "cell_type": "code",
      "execution_count": 432,
      "metadata": {
        "colab": {
          "base_uri": "https://localhost:8080/"
        },
        "id": "4U0HMrZRKL8V",
        "outputId": "03cc8d89-0758-48b1-e720-79f4ae7b27aa"
      },
      "outputs": [
        {
          "output_type": "stream",
          "name": "stdout",
          "text": [
            "y.shape값 (15086, 1)\n",
            "y값 일부출력\n",
            " [[0.00108619]]\n"
          ]
        }
      ],
      "source": [
        "y=y.reshape(-1,1)\n",
        "print('y.shape값',y.shape)\n",
        "print('y값 일부출력\\n',y[0:1])"
      ]
    },
    {
      "cell_type": "markdown",
      "metadata": {
        "id": "yvCFXQfrN2AC"
      },
      "source": [
        "# **위의 y값으로 구한 MinMaxScaler값과 단독으로**\n",
        "# **Close값만 뽑아서 MinMaxScaler를 구한 값이 같다는 것을 확인가능**. "
      ]
    },
    {
      "cell_type": "code",
      "execution_count": 433,
      "metadata": {
        "colab": {
          "base_uri": "https://localhost:8080/"
        },
        "id": "bLbHa-hEL3of",
        "outputId": "489911ff-87b1-409f-860e-79f513ae882d"
      },
      "outputs": [
        {
          "output_type": "stream",
          "name": "stdout",
          "text": [
            "close값 0         0.257161\n",
            "1         0.259115\n",
            "2         0.253255\n",
            "3         0.250651\n",
            "4         0.255208\n",
            "           ...    \n",
            "15081    52.450001\n",
            "15082    52.299999\n",
            "15083    53.070000\n",
            "15084    53.540001\n",
            "15085    54.910000\n",
            "Name: Close, Length: 15086, dtype: float64\n",
            "scale_close값 [[0.00108619]\n",
            " [0.00111879]\n",
            " [0.00102102]\n",
            " ...\n",
            " [0.88221149]\n",
            " [0.89005295]\n",
            " [0.91290991]]\n",
            "scale_close.shape값 (15086, 1)\n"
          ]
        }
      ],
      "source": [
        "close=df['Close']#close값만 추출\n",
        "print('close값',close)\n",
        "train_close1=close[0:12069]\n",
        "test_close1=close[12069:]\n",
        "\n",
        "scaler=MinMaxScaler(feature_range=(0,1))\n",
        "scale_close=scaler.fit_transform(np.array(close).reshape(-1,1))#close값 MinMaxScaler 사용\n",
        "print('scale_close값',scale_close)\n",
        "print('scale_close.shape값',scale_close.shape)  #정리하면, 전체 데이터에서 close값만을 추출하여 close에 대입."
      ]
    },
    {
      "cell_type": "markdown",
      "metadata": {
        "id": "cpK2xm-t2wO9"
      },
      "source": [
        "# **train, test 구분하기 8:2 & MinMaxScaler**"
      ]
    },
    {
      "cell_type": "code",
      "execution_count": 434,
      "metadata": {
        "colab": {
          "base_uri": "https://localhost:8080/"
        },
        "id": "oR79exyFOS2V",
        "outputId": "569242ef-ce4c-4f33-a690-6c6f0b8868c3"
      },
      "outputs": [
        {
          "output_type": "stream",
          "name": "stdout",
          "text": [
            "test_close값 (3017, 1)\n",
            "train_close값 (12069, 1)\n"
          ]
        }
      ],
      "source": [
        "train_close=scale_close[0:12069]  #close값 train : 0.8만큼 추출\n",
        "#val_close=scale_close[9052:12069]  #test_close=scale_close[12069:]\n",
        "test_close=scale_close[12069:]\n",
        "print('test_close값',test_close.shape); print('train_close값',train_close.shape);\n",
        "#print('val_close값',val_close.shape)"
      ]
    },
    {
      "cell_type": "code",
      "execution_count": 435,
      "metadata": {
        "colab": {
          "base_uri": "https://localhost:8080/"
        },
        "id": "e6UVBfUYAwoD",
        "outputId": "9af3cd37-8e14-4cbe-98cf-6601f331c1ab"
      },
      "outputs": [
        {
          "output_type": "stream",
          "name": "stdout",
          "text": [
            "[[0.00108619]\n",
            " [0.00111879]\n",
            " [0.00102102]]\n"
          ]
        }
      ],
      "source": [
        "print(train_close[0:3]) #정리하면, train_close, test_close의 경우, close만을 뽑은 값을 train, test로 구분한 것.(MinMaxScaler처리)"
      ]
    },
    {
      "cell_type": "code",
      "execution_count": 436,
      "metadata": {
        "id": "yRaEa-LTW4Yc"
      },
      "outputs": [],
      "source": [
        "train_dataframe = pd.DataFrame(train_close, columns=['Close'], index=train_close1.index)\n",
        "test_dataframe = pd.DataFrame(test_close, columns=['Close'], index=test_close1.index) #train_dataframe는 close값만을 뽑은 train_close1을 사용.\n",
        "\n",
        "#\"train_dataframe=DataFrame\" : pandas는 시계열 데이터에 대한 여러 기능을 제공합니다. 그리고 주가 분석을 위해 사용한 LSTM의 경우,\n",
        "#21일 간격이라는 window를 만들기 위해서 유용한 pandas DataFrame 데이터 타입으로 변환합니다.\n",
        "#이때 입력으로 사용한 \"train_close\"는 MinMaxScaler한 값이고, train_close1의 경우, MinMaxScaler 하지 않은 close값만을 뽑은 값입니다."
      ]
    },
    {
      "cell_type": "code",
      "execution_count": 437,
      "metadata": {
        "colab": {
          "base_uri": "https://localhost:8080/"
        },
        "id": "j20OKrTFBXEu",
        "outputId": "58ad1e11-b00c-433a-db50-0e1f5fc2884f"
      },
      "outputs": [
        {
          "output_type": "stream",
          "name": "stdout",
          "text": [
            "train_close1값 0         0.257161\n",
            "1         0.259115\n",
            "2         0.253255\n",
            "3         0.250651\n",
            "4         0.255208\n",
            "           ...    \n",
            "12064    28.745001\n",
            "12065    28.934999\n",
            "12066    28.840000\n",
            "12067    28.915001\n",
            "12068    29.290001\n",
            "Name: Close, Length: 12069, dtype: float64\n",
            "\n",
            "\n",
            "test_close1값 12069    29.555000\n",
            "12070    29.520000\n",
            "12071    29.530001\n",
            "12072    29.209999\n",
            "12073    28.490000\n",
            "           ...    \n",
            "15081    52.450001\n",
            "15082    52.299999\n",
            "15083    53.070000\n",
            "15084    53.540001\n",
            "15085    54.910000\n",
            "Name: Close, Length: 3017, dtype: float64\n"
          ]
        }
      ],
      "source": [
        "print('train_close1값',train_close1)\n",
        "print('\\n') \n",
        "print('test_close1값',test_close1) #minmaxscaler하지 않은 test, train값 구분"
      ]
    },
    {
      "cell_type": "code",
      "execution_count": 438,
      "metadata": {
        "colab": {
          "base_uri": "https://localhost:8080/"
        },
        "id": "drvphWWQBa-_",
        "outputId": "93a0dcfe-3afe-4cfd-93ef-c9d94e169fe8"
      },
      "outputs": [
        {
          "output_type": "stream",
          "name": "stdout",
          "text": [
            "train_dataframe값           Close\n",
            "0      0.001086\n",
            "1      0.001119\n",
            "2      0.001021\n",
            "3      0.000978\n",
            "4      0.001054\n",
            "...         ...\n",
            "12064  0.476375\n",
            "12065  0.479545\n",
            "12066  0.477960\n",
            "12067  0.479211\n",
            "12068  0.485468\n",
            "\n",
            "[12069 rows x 1 columns]\n",
            "test_dataframe값           Close\n",
            "12069  0.489889\n",
            "12070  0.489305\n",
            "12071  0.489472\n",
            "12072  0.484133\n",
            "12073  0.472121\n",
            "...         ...\n",
            "15081  0.871867\n",
            "15082  0.869365\n",
            "15083  0.882211\n",
            "15084  0.890053\n",
            "15085  0.912910\n",
            "\n",
            "[3017 rows x 1 columns]\n"
          ]
        }
      ],
      "source": [
        "print('train_dataframe값',train_dataframe)  #close값을 기준으로 뽑은 값을 MinMaxScaler하고, DataFrame화 한 값\n",
        "print('test_dataframe값',test_dataframe)"
      ]
    },
    {
      "cell_type": "code",
      "execution_count": 439,
      "metadata": {
        "id": "bIRgd8ToPbeh"
      },
      "outputs": [],
      "source": [
        "for i in range(1, 22):\n",
        "    train_dataframe ['day{}'.format(i)]=train_dataframe ['Close'].shift(i)\n",
        "    test_dataframe ['day{}'.format(i)]=test_dataframe ['Close'].shift(i)"
      ]
    },
    {
      "cell_type": "code",
      "execution_count": 440,
      "metadata": {
        "colab": {
          "base_uri": "https://localhost:8080/"
        },
        "id": "rdrfs2slP_lI",
        "outputId": "53c67603-bbca-4886-8858-bf47e7de73f2"
      },
      "outputs": [
        {
          "output_type": "stream",
          "name": "stdout",
          "text": [
            "x_test.shape값 (2996, 21)\n",
            "x_test값 [[0.4712865  0.46619789 0.45685491 ... 0.48947198 0.48930512 0.48988906]\n",
            " [0.47253776 0.4712865  0.46619789 ... 0.48413309 0.48947198 0.48930512]\n",
            " [0.47337199 0.47253776 0.4712865  ... 0.47212068 0.48413309 0.48947198]\n",
            " ...\n",
            " [0.86936486 0.87186748 0.90740425 ... 0.9411057  0.93593374 0.93276374]\n",
            " [0.88221149 0.86936486 0.87186748 ... 0.94510988 0.9411057  0.93593374]\n",
            " [0.89005295 0.88221149 0.86936486 ... 0.93660111 0.94510988 0.9411057 ]]\n",
            "x_train.shape값 (12048, 21)\n",
            "x_train값 [[0.00084724 0.00068973 0.00070603 ... 0.00102102 0.00111879 0.00108619]\n",
            " [0.00087983 0.00084724 0.00068973 ... 0.00097758 0.00102102 0.00111879]\n",
            " [0.00092327 0.00087983 0.00084724 ... 0.00105361 0.00097758 0.00102102]\n",
            " ...\n",
            " [0.47954501 0.4763751  0.47453985 ... 0.4623606  0.45960774 0.45134922]\n",
            " [0.47796005 0.47954501 0.4763751  ... 0.46503003 0.4623606  0.45960774]\n",
            " [0.47921137 0.47796005 0.47954501 ... 0.46344503 0.46503003 0.4623606 ]]\n"
          ]
        }
      ],
      "source": [
        "x_train=train_dataframe.dropna().drop('Close', axis=1)\n",
        "y_train=train_dataframe.dropna()[['Close']]\n",
        "#train_dataframe.dropna().drop : [Python pandas] 결측(NaN)값 있는 행 제거, 결측(NaN)값 있는 행 제거\n",
        "\n",
        "x_test=test_dataframe.dropna().drop('Close', axis=1)\n",
        "y_test=test_dataframe.dropna()[['Close']]\n",
        "\n",
        "x_train=x_train.values;   x_test=x_test.values;\n",
        "\n",
        "y_train=y_train.values;   y_test=y_test.values;\n",
        "print('x_test.shape값',x_test.shape); print('x_test값',x_test);\n",
        "print('x_train.shape값',x_train.shape); print('x_train값',x_train);"
      ]
    },
    {
      "cell_type": "code",
      "execution_count": 441,
      "metadata": {
        "colab": {
          "base_uri": "https://localhost:8080/"
        },
        "id": "HXMtKm8k0Kwf",
        "outputId": "391d5798-ed7f-4c90-e5dc-ec3787faff07"
      },
      "outputs": [
        {
          "output_type": "stream",
          "name": "stdout",
          "text": [
            "train_close값 (12069, 1)\n",
            "x_train.shape값 (12048, 21)\n",
            "x_test.shape값 (2996, 21)\n",
            "y_train.shape값 (12048, 1)\n",
            "y_test.shape값 (2996, 1)\n"
          ]
        }
      ],
      "source": [
        "print('train_close값',train_close.shape)\n",
        "print('x_train.shape값',x_train.shape); print('x_test.shape값',x_test.shape);\n",
        "#print('x_val.shape값',x_val.shape)\n",
        "print('y_train.shape값',y_train.shape); print('y_test.shape값',y_test.shape);\n",
        "#21일 간격으로 주가를 예측했기에, test값은 12069-21=12-48, train은 3017-21=2996이 됩니다."
      ]
    },
    {
      "cell_type": "code",
      "execution_count": 442,
      "metadata": {
        "colab": {
          "base_uri": "https://localhost:8080/"
        },
        "id": "_Ygkwyu6tUtj",
        "outputId": "554584ef-f974-4735-fbc6-6a275e9deabe"
      },
      "outputs": [
        {
          "output_type": "stream",
          "name": "stdout",
          "text": [
            "x_train.shape값 (12048, 21, 1)\n",
            "x_test.shape값 (2996, 21, 1)\n",
            "y_train.shape값 (12048, 1)\n",
            "y_test.shape값 (2996, 1)\n"
          ]
        }
      ],
      "source": [
        "x_train=np.reshape(x_train, (x_train.shape[0], x_train.shape[1],1))\n",
        "x_test=np.reshape(x_test, (x_test.shape[0], x_test.shape[1],1))\n",
        "\n",
        "print('x_train.shape값',x_train.shape); print('x_test.shape값',x_test.shape);\n",
        "print('y_train.shape값',y_train.shape); print('y_test.shape값',y_test.shape);"
      ]
    },
    {
      "cell_type": "markdown",
      "metadata": {
        "id": "MdMa22egzLWf"
      },
      "source": [
        "## **Model**"
      ]
    },
    {
      "cell_type": "code",
      "execution_count": 443,
      "metadata": {
        "colab": {
          "base_uri": "https://localhost:8080/"
        },
        "id": "EWezxXTPzLpo",
        "outputId": "25147ce7-c0a6-4bbb-9a45-816f5da8f9a9"
      },
      "outputs": [
        {
          "output_type": "stream",
          "name": "stdout",
          "text": [
            "Model: \"sequential_12\"\n",
            "_________________________________________________________________\n",
            " Layer (type)                Output Shape              Param #   \n",
            "=================================================================\n",
            " lstm_24 (LSTM)              (None, 21, 21)            1932      \n",
            "                                                                 \n",
            " lstm_25 (LSTM)              (None, 20)                3360      \n",
            "                                                                 \n",
            " dense_12 (Dense)            (None, 1)                 21        \n",
            "                                                                 \n",
            "=================================================================\n",
            "Total params: 5,313\n",
            "Trainable params: 5,313\n",
            "Non-trainable params: 0\n",
            "_________________________________________________________________\n"
          ]
        }
      ],
      "source": [
        "model=Sequential()\n",
        "model.add(LSTM(21,return_sequences=True, input_shape=(21,1)))\n",
        "model.add(LSTM(20,return_sequences=False))\n",
        "model.add(Dense(1,activation='linear'))\n",
        "model.compile(loss='mse',optimizer='adam')\n",
        "model.summary()"
      ]
    },
    {
      "cell_type": "code",
      "execution_count": 444,
      "metadata": {
        "colab": {
          "base_uri": "https://localhost:8080/"
        },
        "id": "dBKwFtfu0I7L",
        "outputId": "7f443664-579d-4d61-c28f-dc1eeb214fdf"
      },
      "outputs": [
        {
          "output_type": "stream",
          "name": "stdout",
          "text": [
            "Epoch 1/40\n",
            "1205/1205 [==============================] - 17s 12ms/step - loss: 6.2254e-04\n",
            "Epoch 2/40\n",
            "1205/1205 [==============================] - 14s 12ms/step - loss: 1.8232e-04\n",
            "Epoch 3/40\n",
            "1205/1205 [==============================] - 14s 12ms/step - loss: 1.8067e-04\n",
            "Epoch 4/40\n",
            "1205/1205 [==============================] - 14s 12ms/step - loss: 1.6582e-04\n",
            "Epoch 5/40\n",
            "1205/1205 [==============================] - 14s 12ms/step - loss: 1.2751e-04\n",
            "Epoch 6/40\n",
            "1205/1205 [==============================] - 14s 12ms/step - loss: 1.1522e-04\n",
            "Epoch 7/40\n",
            "1205/1205 [==============================] - 14s 12ms/step - loss: 1.0268e-04\n",
            "Epoch 8/40\n",
            "1205/1205 [==============================] - 14s 12ms/step - loss: 9.0772e-05\n",
            "Epoch 9/40\n",
            "1205/1205 [==============================] - 14s 12ms/step - loss: 8.4749e-05\n",
            "Epoch 10/40\n",
            "1205/1205 [==============================] - 14s 12ms/step - loss: 8.3316e-05\n",
            "Epoch 11/40\n",
            "1205/1205 [==============================] - 14s 12ms/step - loss: 7.5466e-05\n",
            "Epoch 12/40\n",
            "1205/1205 [==============================] - 14s 12ms/step - loss: 7.3462e-05\n",
            "Epoch 13/40\n",
            "1205/1205 [==============================] - 14s 12ms/step - loss: 7.0474e-05\n",
            "Epoch 14/40\n",
            "1205/1205 [==============================] - 14s 12ms/step - loss: 7.0081e-05\n",
            "Epoch 15/40\n",
            "1205/1205 [==============================] - 14s 12ms/step - loss: 6.5979e-05\n",
            "Epoch 16/40\n",
            "1205/1205 [==============================] - 14s 12ms/step - loss: 6.5613e-05\n",
            "Epoch 17/40\n",
            "1205/1205 [==============================] - 14s 12ms/step - loss: 6.6197e-05\n",
            "Epoch 18/40\n",
            "1205/1205 [==============================] - 14s 12ms/step - loss: 7.0732e-05\n",
            "Epoch 19/40\n",
            "1205/1205 [==============================] - 14s 12ms/step - loss: 5.6426e-05\n",
            "Epoch 20/40\n",
            "1205/1205 [==============================] - 14s 12ms/step - loss: 6.3369e-05\n",
            "Epoch 21/40\n",
            "1205/1205 [==============================] - 14s 12ms/step - loss: 6.3980e-05\n",
            "Epoch 22/40\n",
            "1205/1205 [==============================] - 14s 12ms/step - loss: 6.1128e-05\n",
            "Epoch 23/40\n",
            "1205/1205 [==============================] - 14s 12ms/step - loss: 5.9153e-05\n",
            "Epoch 24/40\n",
            "1205/1205 [==============================] - 14s 12ms/step - loss: 5.9472e-05\n",
            "Epoch 25/40\n",
            "1205/1205 [==============================] - 14s 12ms/step - loss: 5.6607e-05\n",
            "Epoch 26/40\n",
            "1205/1205 [==============================] - 14s 12ms/step - loss: 5.4780e-05\n",
            "Epoch 27/40\n",
            "1205/1205 [==============================] - 14s 12ms/step - loss: 5.6462e-05\n",
            "Epoch 28/40\n",
            "1205/1205 [==============================] - 14s 12ms/step - loss: 5.6313e-05\n",
            "Epoch 29/40\n",
            "1205/1205 [==============================] - 14s 12ms/step - loss: 5.6412e-05\n",
            "Epoch 30/40\n",
            "1205/1205 [==============================] - 14s 12ms/step - loss: 5.3776e-05\n",
            "Epoch 31/40\n",
            "1205/1205 [==============================] - 14s 12ms/step - loss: 5.0842e-05\n",
            "Epoch 32/40\n",
            "1205/1205 [==============================] - 14s 12ms/step - loss: 5.0921e-05\n",
            "Epoch 33/40\n",
            "1205/1205 [==============================] - 14s 12ms/step - loss: 5.1337e-05\n",
            "Epoch 34/40\n",
            "1205/1205 [==============================] - 14s 12ms/step - loss: 5.0568e-05\n",
            "Epoch 35/40\n",
            "1205/1205 [==============================] - 14s 12ms/step - loss: 5.1969e-05\n",
            "Epoch 36/40\n",
            "1205/1205 [==============================] - 14s 12ms/step - loss: 4.7309e-05\n",
            "Epoch 37/40\n",
            "1205/1205 [==============================] - 14s 12ms/step - loss: 5.1693e-05\n",
            "Epoch 38/40\n",
            "1205/1205 [==============================] - 14s 12ms/step - loss: 4.8437e-05\n",
            "Epoch 39/40\n",
            "1205/1205 [==============================] - 14s 12ms/step - loss: 5.0063e-05\n",
            "Epoch 40/40\n",
            "1205/1205 [==============================] - 14s 12ms/step - loss: 4.7015e-05\n"
          ]
        },
        {
          "output_type": "execute_result",
          "data": {
            "text/plain": [
              "<keras.callbacks.History at 0x7f3be804e850>"
            ]
          },
          "metadata": {},
          "execution_count": 444
        }
      ],
      "source": [
        "#model.fit(x_train,y_train, validation_data=(x_test,y_test),batch_size=10, epochs=20)   #과적합test가 들어가서 완벽한 검증이 안된다. 따라서 train, test, vali : 6 : 2: 2로 구분\n",
        "model.fit(x_train,y_train, verbose=1,batch_size=10, epochs=40)"
      ]
    },
    {
      "cell_type": "code",
      "execution_count": 445,
      "metadata": {
        "colab": {
          "base_uri": "https://localhost:8080/",
          "height": 336
        },
        "id": "ZipX9rwk0X3i",
        "outputId": "91243f5c-388d-404d-ab89-6d0f37c95e5a"
      },
      "outputs": [
        {
          "output_type": "display_data",
          "data": {
            "image/png": "[encoded data removed]",
            "text/plain": [
              "<Figure size 576x360 with 1 Axes>"
            ]
          },
          "metadata": {
            "needs_background": "light"
          }
        }
      ],
      "source": [
        "plt.figure(figsize=(8,5))\n",
        "y_pred = model.predict(x_test)\n",
        "plt.plot(y_pred,label='prediction')\n",
        "plt.plot(y_test,label='y_test')\n",
        "plt.title('y_test vs prediction')\n",
        "\n",
        "plt.legend()\n",
        "plt.show()   #이를 통해 model값 자체가 x_test로 구한 값과 y_test의 오차가 적기에, 정확하게 구현하였음을 확인하였습니다."
      ]
    },
    {
      "cell_type": "markdown",
      "source": [
        "## **RMSE값(test 오차값 성능평가)**"
      ],
      "metadata": {
        "id": "wCR3n025P0Uu"
      }
    },
    {
      "cell_type": "code",
      "execution_count": 446,
      "metadata": {
        "colab": {
          "base_uri": "https://localhost:8080/",
          "height": 245
        },
        "id": "amoeE6CYa_z3",
        "outputId": "68c2b3c3-3348-4835-ca24-04064050733e"
      },
      "outputs": [
        {
          "output_type": "display_data",
          "data": {
            "image/png": "[encoded data removed]",
            "text/plain": [
              "<Figure size 360x216 with 1 Axes>"
            ]
          },
          "metadata": {
            "needs_background": "light"
          }
        },
        {
          "output_type": "stream",
          "name": "stdout",
          "text": [
            "testRMSE값 6.913731542830949\n"
          ]
        }
      ],
      "source": [
        "import math\n",
        "from sklearn.metrics import mean_squared_error\n",
        "\n",
        "plt.figure(figsize=(5,3))\n",
        "y_pred = model.predict(x_test)\n",
        "plt.xlim([2000,3000])\n",
        "plt.ylim([36,62])\n",
        "y_pred=scaler.inverse_transform(y_pred)\n",
        "y_test=scaler.inverse_transform(y_test)\n",
        "plt.plot(y_pred,label='prediction');  plt.plot(y_test,label='y_test');  plt.title('y_test vs prediction');\n",
        "plt.legend()\n",
        "plt.show()\n",
        "\n",
        "testRMSE=math.sqrt(mean_squared_error(y_pred, y_test))\n",
        "print('testRMSE값',testRMSE)"
      ]
    },
    {
      "cell_type": "code",
      "execution_count": 447,
      "metadata": {
        "colab": {
          "base_uri": "https://localhost:8080/",
          "height": 336
        },
        "id": "sDzoWSo2PDpe",
        "outputId": "3a073fa4-2428-4969-f9e4-823e607b3bbf"
      },
      "outputs": [
        {
          "output_type": "display_data",
          "data": {
            "image/png": "[encoded data removed]",
            "text/plain": [
              "<Figure size 576x360 with 1 Axes>"
            ]
          },
          "metadata": {
            "needs_background": "light"
          }
        }
      ],
      "source": [
        "plt.figure(figsize=(8,5))\n",
        "prediction = model.predict(x_train)\n",
        "plt.plot(prediction,label='prediction')\n",
        "plt.plot(y_train,label='y_train')\n",
        "plt.title('y_train vs prediction')\n",
        "plt.legend()\n",
        "plt.show() #이를 통해 model값 자체가 x_train로 구한 값과 y_train의 오차가 적기에, 정확하게 구현하였음을 확인하였습니다."
      ]
    },
    {
      "cell_type": "code",
      "execution_count": 448,
      "metadata": {
        "id": "fndz3TTdS4gb",
        "colab": {
          "base_uri": "https://localhost:8080/"
        },
        "outputId": "8fd251ff-3926-42e7-a730-fe32a47d93f4"
      },
      "outputs": [
        {
          "output_type": "stream",
          "name": "stdout",
          "text": [
            "x_train.shape값 (12048, 21, 1)\n",
            "x_test.shape값 (2996, 21, 1)\n",
            "train_predict.shape값 (12048, 1)\n",
            "test_predict.shape값 (2996, 1)\n"
          ]
        }
      ],
      "source": [
        "print('x_train.shape값',x_train.shape)\n",
        "print('x_test.shape값',x_test.shape)\n",
        "train_predict=model.predict(x_train)\n",
        "test_predict=model.predict(x_test)\n",
        "print('train_predict.shape값',train_predict.shape)\n",
        "print('test_predict.shape값',test_predict.shape)"
      ]
    },
    {
      "cell_type": "markdown",
      "metadata": {
        "id": "HXvT68YFbyMW"
      },
      "source": [
        "# **RMSE값(train 오차값 성능평가)**"
      ]
    },
    {
      "cell_type": "code",
      "execution_count": 449,
      "metadata": {
        "colab": {
          "base_uri": "https://localhost:8080/"
        },
        "id": "yPIPd6EtGx5v",
        "outputId": "d6e6cfef-c045-43cd-e078-07ad9357cc02"
      },
      "outputs": [
        {
          "output_type": "stream",
          "name": "stdout",
          "text": [
            "train_RMSE값\n",
            "0.006393797308969063\n",
            "y_pred1.shaper값 (12048, 1)\n"
          ]
        }
      ],
      "source": [
        "import math\n",
        "from sklearn.metrics import mean_squared_error\n",
        "\n",
        "#train값 평가\n",
        "y_pred1 = model.predict(x_train)\n",
        "trainRMSE=math.sqrt(mean_squared_error(y_pred1, y_train))\n",
        "print('train_RMSE값'); print(trainRMSE);\n",
        "print('y_pred1.shaper값',y_pred1.shape);"
      ]
    },
    {
      "cell_type": "code",
      "execution_count": 450,
      "metadata": {
        "colab": {
          "base_uri": "https://localhost:8080/"
        },
        "id": "ox5tNvDotpr_",
        "outputId": "7b4384fc-72d5-4b0d-edec-f787c10162a5"
      },
      "outputs": [
        {
          "output_type": "execute_result",
          "data": {
            "text/plain": [
              "array([[27.826038],\n",
              "       [27.962107],\n",
              "       [28.094908],\n",
              "       ...,\n",
              "       [36.855183],\n",
              "       [37.694664],\n",
              "       [38.434975]], dtype=float32)"
            ]
          },
          "metadata": {},
          "execution_count": 450
        }
      ],
      "source": [
        "y_pred"
      ]
    },
    {
      "cell_type": "code",
      "execution_count": 451,
      "metadata": {
        "id": "kzslGO0bHqM2",
        "colab": {
          "base_uri": "https://localhost:8080/"
        },
        "outputId": "e50f37f5-acdf-4556-a06c-f90195ae2db2"
      },
      "outputs": [
        {
          "output_type": "execute_result",
          "data": {
            "text/plain": [
              "array([[28.514999],\n",
              "       [28.565001],\n",
              "       [28.145   ],\n",
              "       ...,\n",
              "       [53.07    ],\n",
              "       [53.540001],\n",
              "       [54.91    ]])"
            ]
          },
          "metadata": {},
          "execution_count": 451
        }
      ],
      "source": [
        "y_test"
      ]
    }
  ],
  "metadata": {
    "accelerator": "GPU",
    "colab": {
      "collapsed_sections": [],
      "name": "project2_20212245 김희서",
      "provenance": [],
      "authorship_tag": "ABX9TyNhJxJChllSrhM+NXU6OEPx",
      "include_colab_link": true
    },
    "kernelspec": {
      "display_name": "Python 3",
      "name": "python3"
    },
    "language_info": {
      "name": "python"
    }
  },
  "nbformat": 4,
  "nbformat_minor": 0
}